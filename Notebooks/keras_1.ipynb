{
 "cells": [
  {
   "cell_type": "code",
   "execution_count": 75,
   "metadata": {},
   "outputs": [],
   "source": [
    "import tensorflow as tf\n",
    "\n",
    "import datetime as dt\n",
    "\n",
    "import pandas as pd\n",
    "from sklearn.model_selection import train_test_split\n",
    "import numpy as np\n",
    "import tensorflow_hub as hub\n",
    "from tensorflow.keras.preprocessing.text import one_hot\n",
    "import texthero as hero\n",
    "from tensorflow.keras.layers import Embedding\n",
    "from tensorflow.keras.preprocessing.sequence import pad_sequences\n",
    "from tensorflow.keras.models import Sequential\n",
    "from tensorflow.keras.models import load_model"
   ]
  },
  {
   "cell_type": "code",
   "execution_count": 76,
   "metadata": {},
   "outputs": [],
   "source": [
    "dataset = pd.read_csv('..\\Datasets\\Emotion_final.csv')"
   ]
  },
  {
   "cell_type": "code",
   "execution_count": 77,
   "metadata": {},
   "outputs": [],
   "source": [
    "dataset['clean_text'] = hero.clean(dataset['Text'])\n",
    "dataset['encoded_emotion'] = dataset['Emotion'].map({'sadness':0, 'anger':1, 'love':2, 'surprise':3, 'fear':4, 'happy':5})"
   ]
  },
  {
   "cell_type": "code",
   "execution_count": 78,
   "metadata": {},
   "outputs": [],
   "source": [
    "X_train, X_test, = train_test_split(dataset, test_size= 0.2, random_state=111)"
   ]
  },
  {
   "cell_type": "code",
   "execution_count": 79,
   "metadata": {},
   "outputs": [],
   "source": [
    "X_train, X_val = train_test_split(X_train, test_size = 0.3, random_state= 42)"
   ]
  },
  {
   "cell_type": "code",
   "execution_count": 80,
   "metadata": {},
   "outputs": [
    {
     "data": {
      "text/html": [
       "<div>\n",
       "<style scoped>\n",
       "    .dataframe tbody tr th:only-of-type {\n",
       "        vertical-align: middle;\n",
       "    }\n",
       "\n",
       "    .dataframe tbody tr th {\n",
       "        vertical-align: top;\n",
       "    }\n",
       "\n",
       "    .dataframe thead th {\n",
       "        text-align: right;\n",
       "    }\n",
       "</style>\n",
       "<table border=\"1\" class=\"dataframe\">\n",
       "  <thead>\n",
       "    <tr style=\"text-align: right;\">\n",
       "      <th></th>\n",
       "      <th>Text</th>\n",
       "      <th>Emotion</th>\n",
       "      <th>clean_text</th>\n",
       "      <th>encoded_emotion</th>\n",
       "    </tr>\n",
       "  </thead>\n",
       "  <tbody>\n",
       "    <tr>\n",
       "      <th>0</th>\n",
       "      <td>i didnt feel humiliated</td>\n",
       "      <td>sadness</td>\n",
       "      <td>didnt feel humiliated</td>\n",
       "      <td>0</td>\n",
       "    </tr>\n",
       "    <tr>\n",
       "      <th>1</th>\n",
       "      <td>i can go from feeling so hopeless to so damned...</td>\n",
       "      <td>sadness</td>\n",
       "      <td>go feeling hopeless damned hopeful around some...</td>\n",
       "      <td>0</td>\n",
       "    </tr>\n",
       "    <tr>\n",
       "      <th>2</th>\n",
       "      <td>im grabbing a minute to post i feel greedy wrong</td>\n",
       "      <td>anger</td>\n",
       "      <td>im grabbing minute post feel greedy wrong</td>\n",
       "      <td>1</td>\n",
       "    </tr>\n",
       "    <tr>\n",
       "      <th>3</th>\n",
       "      <td>i am ever feeling nostalgic about the fireplac...</td>\n",
       "      <td>love</td>\n",
       "      <td>ever feeling nostalgic fireplace know still pr...</td>\n",
       "      <td>2</td>\n",
       "    </tr>\n",
       "    <tr>\n",
       "      <th>4</th>\n",
       "      <td>i am feeling grouchy</td>\n",
       "      <td>anger</td>\n",
       "      <td>feeling grouchy</td>\n",
       "      <td>1</td>\n",
       "    </tr>\n",
       "    <tr>\n",
       "      <th>...</th>\n",
       "      <td>...</td>\n",
       "      <td>...</td>\n",
       "      <td>...</td>\n",
       "      <td>...</td>\n",
       "    </tr>\n",
       "    <tr>\n",
       "      <th>21454</th>\n",
       "      <td>Melissa stared at her friend in dism</td>\n",
       "      <td>fear</td>\n",
       "      <td>melissa stared friend dism</td>\n",
       "      <td>4</td>\n",
       "    </tr>\n",
       "    <tr>\n",
       "      <th>21455</th>\n",
       "      <td>Successive state elections have seen the gover...</td>\n",
       "      <td>fear</td>\n",
       "      <td>successive state elections seen governing part...</td>\n",
       "      <td>4</td>\n",
       "    </tr>\n",
       "    <tr>\n",
       "      <th>21456</th>\n",
       "      <td>Vincent was irritated but not dismay</td>\n",
       "      <td>fear</td>\n",
       "      <td>vincent irritated dismay</td>\n",
       "      <td>4</td>\n",
       "    </tr>\n",
       "    <tr>\n",
       "      <th>21457</th>\n",
       "      <td>Kendall-Hume turned back to face the dismayed ...</td>\n",
       "      <td>fear</td>\n",
       "      <td>kendall hume turned back face dismayed coup</td>\n",
       "      <td>4</td>\n",
       "    </tr>\n",
       "    <tr>\n",
       "      <th>21458</th>\n",
       "      <td>I am dismayed , but not surpris</td>\n",
       "      <td>fear</td>\n",
       "      <td>dismayed surpris</td>\n",
       "      <td>4</td>\n",
       "    </tr>\n",
       "  </tbody>\n",
       "</table>\n",
       "<p>21459 rows × 4 columns</p>\n",
       "</div>"
      ],
      "text/plain": [
       "                                                    Text  Emotion  \\\n",
       "0                                i didnt feel humiliated  sadness   \n",
       "1      i can go from feeling so hopeless to so damned...  sadness   \n",
       "2       im grabbing a minute to post i feel greedy wrong    anger   \n",
       "3      i am ever feeling nostalgic about the fireplac...     love   \n",
       "4                                   i am feeling grouchy    anger   \n",
       "...                                                  ...      ...   \n",
       "21454               Melissa stared at her friend in dism     fear   \n",
       "21455  Successive state elections have seen the gover...     fear   \n",
       "21456               Vincent was irritated but not dismay     fear   \n",
       "21457  Kendall-Hume turned back to face the dismayed ...     fear   \n",
       "21458                    I am dismayed , but not surpris     fear   \n",
       "\n",
       "                                              clean_text  encoded_emotion  \n",
       "0                                  didnt feel humiliated                0  \n",
       "1      go feeling hopeless damned hopeful around some...                0  \n",
       "2              im grabbing minute post feel greedy wrong                1  \n",
       "3      ever feeling nostalgic fireplace know still pr...                2  \n",
       "4                                        feeling grouchy                1  \n",
       "...                                                  ...              ...  \n",
       "21454                         melissa stared friend dism                4  \n",
       "21455  successive state elections seen governing part...                4  \n",
       "21456                           vincent irritated dismay                4  \n",
       "21457        kendall hume turned back face dismayed coup                4  \n",
       "21458                                   dismayed surpris                4  \n",
       "\n",
       "[21459 rows x 4 columns]"
      ]
     },
     "execution_count": 80,
     "metadata": {},
     "output_type": "execute_result"
    }
   ],
   "source": [
    "dataset"
   ]
  },
  {
   "cell_type": "code",
   "execution_count": 81,
   "metadata": {},
   "outputs": [],
   "source": [
    "from sklearn.utils import class_weight\n",
    "\n",
    "class_weights = list(class_weight.compute_class_weight(class_weight ='balanced', \n",
    "                                     classes = np.unique(dataset['Emotion']), \n",
    "                                     y = dataset['Emotion']))"
   ]
  },
  {
   "cell_type": "code",
   "execution_count": 82,
   "metadata": {},
   "outputs": [
    {
     "data": {
      "text/plain": [
       "happy       7029\n",
       "sadness     6265\n",
       "anger       2993\n",
       "fear        2652\n",
       "love        1641\n",
       "surprise     879\n",
       "Name: Emotion, dtype: int64"
      ]
     },
     "execution_count": 82,
     "metadata": {},
     "output_type": "execute_result"
    }
   ],
   "source": [
    "dataset['Emotion'].value_counts()"
   ]
  },
  {
   "cell_type": "code",
   "execution_count": 83,
   "metadata": {},
   "outputs": [],
   "source": [
    "class_weights.sort()"
   ]
  },
  {
   "cell_type": "code",
   "execution_count": 84,
   "metadata": {},
   "outputs": [
    {
     "data": {
      "text/plain": [
       "[0.5088206003698962,\n",
       " 0.5708699122106944,\n",
       " 1.194954894754427,\n",
       " 1.348604826546003,\n",
       " 2.179463741620963,\n",
       " 4.068828213879408]"
      ]
     },
     "execution_count": 84,
     "metadata": {},
     "output_type": "execute_result"
    }
   ],
   "source": [
    "class_weights"
   ]
  },
  {
   "cell_type": "code",
   "execution_count": 85,
   "metadata": {},
   "outputs": [],
   "source": [
    "weights = {}"
   ]
  },
  {
   "cell_type": "code",
   "execution_count": 86,
   "metadata": {},
   "outputs": [],
   "source": [
    "for index, weight in enumerate(class_weights):\n",
    "    weights[index] = weight"
   ]
  },
  {
   "cell_type": "code",
   "execution_count": 87,
   "metadata": {},
   "outputs": [
    {
     "data": {
      "text/plain": [
       "{0: 0.5088206003698962,\n",
       " 1: 0.5708699122106944,\n",
       " 2: 1.194954894754427,\n",
       " 3: 1.348604826546003,\n",
       " 4: 2.179463741620963,\n",
       " 5: 4.068828213879408}"
      ]
     },
     "execution_count": 87,
     "metadata": {},
     "output_type": "execute_result"
    }
   ],
   "source": [
    "weights"
   ]
  },
  {
   "cell_type": "code",
   "execution_count": 88,
   "metadata": {},
   "outputs": [],
   "source": [
    "dataset_train = tf.data.Dataset.from_tensor_slices((X_train['clean_text'].values, X_train['Emotion'].values))\n",
    "dataset_test = tf.data.Dataset.from_tensor_slices((X_test['clean_text'].values, X_test['Emotion'].values))\n",
    "dataset_val = tf.data.Dataset.from_tensor_slices((X_val['clean_text'].values, X_val['Emotion'].values))"
   ]
  },
  {
   "cell_type": "code",
   "execution_count": 89,
   "metadata": {},
   "outputs": [],
   "source": [
    "vocab_size = 40000\n",
    "embedding_dim = 128\n",
    "max_length = 120\n",
    "trunc_type = 'post'\n",
    "oov_tok = '<OOV>'\n",
    "padding_type = 'post'"
   ]
  },
  {
   "cell_type": "code",
   "execution_count": 90,
   "metadata": {},
   "outputs": [],
   "source": [
    "training_sentences = X_train.clean_text.to_list()\n",
    "val_sentences = X_val.clean_text.to_list()\n",
    "test_sentences = X_test.clean_text.to_list()\n",
    "\n",
    "training_labels = np.array(X_train.encoded_emotion.to_list())\n",
    "val_labels = np.array(X_val.encoded_emotion.to_list())\n",
    "test_labels = np.array(X_test.encoded_emotion.to_list())\n"
   ]
  },
  {
   "cell_type": "code",
   "execution_count": 91,
   "metadata": {},
   "outputs": [],
   "source": [
    "ohe = [one_hot(words, vocab_size) for words in training_sentences]\n",
    "sent_length = 120\n",
    "embedded_docs = pad_sequences(ohe, padding='pre', maxlen=sent_length)\n",
    "\n",
    "ohe_val = [one_hot(words, vocab_size) for words in val_sentences]\n",
    "sent_length = 120\n",
    "embedded_val = pad_sequences(ohe_val, padding='pre', maxlen=sent_length)\n",
    "\n",
    "ohe_test = [one_hot(words, vocab_size) for words in test_sentences]\n",
    "sent_length = 120\n",
    "embedded_test = pad_sequences(ohe_test, padding='pre', maxlen=sent_length)"
   ]
  },
  {
   "cell_type": "code",
   "execution_count": null,
   "metadata": {},
   "outputs": [],
   "source": []
  },
  {
   "cell_type": "code",
   "execution_count": 145,
   "metadata": {},
   "outputs": [
    {
     "name": "stdout",
     "output_type": "stream",
     "text": [
      "Model: \"sequential_8\"\n",
      "_________________________________________________________________\n",
      " Layer (type)                Output Shape              Param #   \n",
      "=================================================================\n",
      " embedding_8 (Embedding)     (None, 120, 128)          5120000   \n",
      "                                                                 \n",
      " batch_normalization (BatchN  (None, 120, 128)         512       \n",
      " ormalization)                                                   \n",
      "                                                                 \n",
      " spatial_dropout1d_5 (Spatia  (None, 120, 128)         0         \n",
      " lDropout1D)                                                     \n",
      "                                                                 \n",
      " batch_normalization_1 (Batc  (None, 120, 128)         512       \n",
      " hNormalization)                                                 \n",
      "                                                                 \n",
      " lstm_5 (LSTM)               (None, 192)               246528    \n",
      "                                                                 \n",
      " batch_normalization_2 (Batc  (None, 192)              768       \n",
      " hNormalization)                                                 \n",
      "                                                                 \n",
      " dense_15 (Dense)            (None, 6)                 1158      \n",
      "                                                                 \n",
      "=================================================================\n",
      "Total params: 5,369,478\n",
      "Trainable params: 5,368,582\n",
      "Non-trainable params: 896\n",
      "_________________________________________________________________\n"
     ]
    }
   ],
   "source": [
    "embed_dim = 128\n",
    "lstm_out = 192\n",
    "from keras.layers import Dense, Embedding, LSTM, SpatialDropout1D, BatchNormalization\n",
    "model = Sequential()\n",
    "model.add(Embedding(vocab_size, embedding_dim, input_length=max_length))\n",
    "model.add(BatchNormalization())\n",
    "model.add(SpatialDropout1D(0.4))\n",
    "model.add(BatchNormalization())\n",
    "model.add(LSTM(lstm_out, dropout=0.4, recurrent_dropout=0.4))\n",
    "model.add(BatchNormalization())\n",
    "model.add(Dense(6,activation='softmax'))\n",
    "\n",
    "# model = tf.keras.Sequential()\n",
    "# model.add(tf.keras.layers.Embedding(vocab_size, embedding_dim, input_length=max_length))\n",
    "# for units in [128,128,64,32]:\n",
    "#     model.add(tf.keras.layers.Dense(units, activation='relu'))\n",
    "#     model.add(tf.keras.layers.Dropout(0.3))\n",
    "# model.add(tf.keras.layers.Dense(6, activation='softmax'))\n",
    "\n",
    "model.summary()"
   ]
  },
  {
   "cell_type": "code",
   "execution_count": 146,
   "metadata": {},
   "outputs": [],
   "source": [
    "model.compile(optimizer='adam',\n",
    "loss='sparse_categorical_crossentropy',\n",
    "metrics=['accuracy'])"
   ]
  },
  {
   "cell_type": "code",
   "execution_count": 94,
   "metadata": {},
   "outputs": [
    {
     "data": {
      "text/plain": [
       "array([[    0,     0,     0, ..., 38557, 22349, 17729],\n",
       "       [    0,     0,     0, ..., 12976, 15744, 21977],\n",
       "       [    0,     0,     0, ...,  2378, 16641, 19068],\n",
       "       ...,\n",
       "       [    0,     0,     0, ..., 35761, 32604, 17749],\n",
       "       [    0,     0,     0, ..., 36513, 30925, 15714],\n",
       "       [    0,     0,     0, ...,  8125, 37957, 32218]])"
      ]
     },
     "execution_count": 94,
     "metadata": {},
     "output_type": "execute_result"
    }
   ],
   "source": [
    "embedded_docs"
   ]
  },
  {
   "cell_type": "code",
   "execution_count": 95,
   "metadata": {},
   "outputs": [
    {
     "data": {
      "text/plain": [
       "(12016, 120)"
      ]
     },
     "execution_count": 95,
     "metadata": {},
     "output_type": "execute_result"
    }
   ],
   "source": [
    "embedded_docs.shape"
   ]
  },
  {
   "cell_type": "code",
   "execution_count": 96,
   "metadata": {},
   "outputs": [
    {
     "data": {
      "text/plain": [
       "array([0, 5, 0, ..., 2, 3, 2])"
      ]
     },
     "execution_count": 96,
     "metadata": {},
     "output_type": "execute_result"
    }
   ],
   "source": [
    "training_labels"
   ]
  },
  {
   "cell_type": "code",
   "execution_count": 97,
   "metadata": {},
   "outputs": [
    {
     "data": {
      "text/plain": [
       "(12016,)"
      ]
     },
     "execution_count": 97,
     "metadata": {},
     "output_type": "execute_result"
    }
   ],
   "source": [
    "training_labels.shape"
   ]
  },
  {
   "cell_type": "code",
   "execution_count": 147,
   "metadata": {},
   "outputs": [
    {
     "name": "stdout",
     "output_type": "stream",
     "text": [
      "Epoch 1/10\n",
      "376/376 [==============================] - 157s 413ms/step - loss: 2.7935 - accuracy: 0.3107 - val_loss: 1.7025 - val_accuracy: 0.4042\n",
      "Epoch 2/10\n",
      "376/376 [==============================] - 149s 397ms/step - loss: 1.6181 - accuracy: 0.4517 - val_loss: 1.2128 - val_accuracy: 0.6127\n",
      "Epoch 3/10\n",
      "376/376 [==============================] - 149s 395ms/step - loss: 0.8819 - accuracy: 0.6664 - val_loss: 0.5446 - val_accuracy: 0.8282\n",
      "Epoch 4/10\n",
      "376/376 [==============================] - 146s 389ms/step - loss: 0.5044 - accuracy: 0.8273 - val_loss: 0.3887 - val_accuracy: 0.8754\n",
      "Epoch 5/10\n",
      "376/376 [==============================] - 156s 414ms/step - loss: 0.3260 - accuracy: 0.8951 - val_loss: 0.3462 - val_accuracy: 0.8851\n",
      "Epoch 6/10\n",
      "376/376 [==============================] - 165s 438ms/step - loss: 0.2670 - accuracy: 0.9148 - val_loss: 0.4133 - val_accuracy: 0.8800\n",
      "Epoch 7/10\n",
      "376/376 [==============================] - 155s 413ms/step - loss: 0.2113 - accuracy: 0.9303 - val_loss: 0.3275 - val_accuracy: 0.8979\n",
      "Epoch 8/10\n",
      "376/376 [==============================] - 154s 409ms/step - loss: 0.1687 - accuracy: 0.9435 - val_loss: 0.4089 - val_accuracy: 0.8858\n",
      "Epoch 9/10\n",
      "376/376 [==============================] - 158s 419ms/step - loss: 0.1560 - accuracy: 0.9513 - val_loss: 0.3323 - val_accuracy: 0.9037\n",
      "Epoch 10/10\n",
      "376/376 [==============================] - 150s 399ms/step - loss: 0.1292 - accuracy: 0.9575 - val_loss: 0.3605 - val_accuracy: 0.9049\n"
     ]
    }
   ],
   "source": [
    "history = model.fit(embedded_docs, training_labels,\n",
    "                    epochs=10,\n",
    "                    validation_data = (embedded_val, val_labels),\n",
    "                    verbose = 1, class_weight = weights\n",
    "                    )"
   ]
  },
  {
   "cell_type": "code",
   "execution_count": 148,
   "metadata": {},
   "outputs": [
    {
     "name": "stdout",
     "output_type": "stream",
     "text": [
      "135/135 [==============================] - 17s 125ms/step - loss: 0.3603 - accuracy: 0.9010\n",
      "[0.36029109358787537, 0.9009785652160645]\n"
     ]
    }
   ],
   "source": [
    "\n",
    "results = model.evaluate(embedded_test, test_labels, verbose=1)\n",
    "\n",
    "print(results)"
   ]
  },
  {
   "cell_type": "code",
   "execution_count": 149,
   "metadata": {},
   "outputs": [],
   "source": [
    "y_pred = model.predict(embedded_test)"
   ]
  },
  {
   "cell_type": "code",
   "execution_count": 150,
   "metadata": {},
   "outputs": [],
   "source": [
    "from sklearn.metrics import classification_report"
   ]
  },
  {
   "cell_type": "code",
   "execution_count": 151,
   "metadata": {},
   "outputs": [
    {
     "name": "stdout",
     "output_type": "stream",
     "text": [
      "              precision    recall  f1-score   support\n",
      "\n",
      "           0       0.96      0.92      0.94      1253\n",
      "           1       0.90      0.85      0.87       630\n",
      "           2       0.88      0.75      0.81       341\n",
      "           3       0.89      0.66      0.76       170\n",
      "           4       0.82      0.93      0.87       465\n",
      "           5       0.89      0.96      0.92      1433\n",
      "\n",
      "    accuracy                           0.90      4292\n",
      "   macro avg       0.89      0.85      0.86      4292\n",
      "weighted avg       0.90      0.90      0.90      4292\n",
      "\n"
     ]
    }
   ],
   "source": [
    "print(classification_report(test_labels, y_pred.argmax(axis=1)))"
   ]
  },
  {
   "cell_type": "code",
   "execution_count": 152,
   "metadata": {},
   "outputs": [
    {
     "data": {
      "image/png": "[encoded data removed]",
      "text/plain": [
       "<Figure size 432x288 with 1 Axes>"
      ]
     },
     "metadata": {
      "needs_background": "light"
     },
     "output_type": "display_data"
    },
    {
     "data": {
      "image/png": "[encoded data removed]",
      "text/plain": [
       "<Figure size 432x288 with 1 Axes>"
      ]
     },
     "metadata": {
      "needs_background": "light"
     },
     "output_type": "display_data"
    }
   ],
   "source": [
    "import matplotlib.pyplot as plt\n",
    "# summarize history for accuracy\n",
    "plt.plot(history.history['accuracy'])\n",
    "plt.plot(history.history['val_accuracy'])\n",
    "plt.title('model accuracy')\n",
    "plt.ylabel('accuracy')\n",
    "plt.xlabel('epoch')\n",
    "plt.legend(['train', 'test'], loc='upper left')\n",
    "plt.show()\n",
    "# summarize history for loss\n",
    "plt.plot(history.history['loss'])\n",
    "plt.plot(history.history['val_loss'])\n",
    "plt.title('model loss')\n",
    "plt.ylabel('loss')\n",
    "plt.xlabel('epoch')\n",
    "plt.legend(['train', 'test'], loc='upper left')\n",
    "plt.show()"
   ]
  },
  {
   "cell_type": "code",
   "execution_count": 154,
   "metadata": {},
   "outputs": [],
   "source": [
    "test = 'I am not sad'\n",
    "ohe_trial = [one_hot(test, vocab_size)]\n",
    "embed = pad_sequences(ohe_trial, padding='pre', maxlen=max_length)"
   ]
  },
  {
   "cell_type": "code",
   "execution_count": 155,
   "metadata": {},
   "outputs": [],
   "source": [
    "pred = model.predict(embed)"
   ]
  },
  {
   "cell_type": "code",
   "execution_count": 156,
   "metadata": {},
   "outputs": [
    {
     "name": "stdout",
     "output_type": "stream",
     "text": [
      "[0]\n"
     ]
    }
   ],
   "source": [
    "classes = np.argmax(pred, axis = 1) \n",
    "print(classes)"
   ]
  },
  {
   "cell_type": "code",
   "execution_count": 106,
   "metadata": {},
   "outputs": [
    {
     "name": "stdout",
     "output_type": "stream",
     "text": [
      "INFO:tensorflow:Assets written to: ../model/NLP\\assets\n"
     ]
    },
    {
     "name": "stderr",
     "output_type": "stream",
     "text": [
      "WARNING:absl:<keras.layers.recurrent.LSTMCell object at 0x000001C6A941FC48> has the same name 'LSTMCell' as a built-in Keras object. Consider renaming <class 'keras.layers.recurrent.LSTMCell'> to avoid naming conflicts when loading with `tf.keras.models.load_model`. If renaming is not possible, pass the object in the `custom_objects` parameter of the load function.\n"
     ]
    }
   ],
   "source": [
    "model.save('../model/NLP')"
   ]
  },
  {
   "cell_type": "code",
   "execution_count": 107,
   "metadata": {},
   "outputs": [],
   "source": [
    "\n",
    "def text_analysis(text):\n",
    "    model =load_model(\"../model/NLP.h5\")\n",
    "    ohe_trial = [one_hot(text, vocab_size)]\n",
    "    embed = pad_sequences(ohe_trial, padding='pre', maxlen=max_length)\n",
    "    pred = model.predict(embed)\n",
    "    classes = list(np.argmax(pred, axis = 1))\n",
    "    if classes == [0]:\n",
    "        return 'Sad'\n",
    "    if classes == [1]:\n",
    "        return 'Angry'\n",
    "    if classes == [2]:\n",
    "        return 'Love'\n",
    "    if classes == [3]:\n",
    "        return 'Surprise'\n",
    "    if classes == [4]:\n",
    "        return 'Fear'\n",
    "    else:\n",
    "        return 'Happy'\n",
    "\n",
    "\n",
    "    "
   ]
  },
  {
   "cell_type": "code",
   "execution_count": 108,
   "metadata": {},
   "outputs": [
    {
     "name": "stdout",
     "output_type": "stream",
     "text": [
      "Love\n"
     ]
    }
   ],
   "source": [
    "import h5py\n",
    "import numpy as np\n",
    "\n",
    "print(text_analysis('Hello, nice to see you'))"
   ]
  },
  {
   "cell_type": "code",
   "execution_count": 157,
   "metadata": {},
   "outputs": [
    {
     "name": "stdout",
     "output_type": "stream",
     "text": [
      "INFO:tensorflow:Assets written to: model\\assets\n"
     ]
    },
    {
     "name": "stderr",
     "output_type": "stream",
     "text": [
      "INFO:tensorflow:Assets written to: model\\assets\n",
      "WARNING:absl:<keras.layers.recurrent.LSTMCell object at 0x000001C6A98EC9C8> has the same name 'LSTMCell' as a built-in Keras object. Consider renaming <class 'keras.layers.recurrent.LSTMCell'> to avoid naming conflicts when loading with `tf.keras.models.load_model`. If renaming is not possible, pass the object in the `custom_objects` parameter of the load function.\n"
     ]
    }
   ],
   "source": [
    "tf.keras.models.save_model(model=model, filepath='model', save_format='tf')"
   ]
  },
  {
   "cell_type": "code",
   "execution_count": 134,
   "metadata": {},
   "outputs": [],
   "source": [
    "model_test = load_model(\"model\")"
   ]
  },
  {
   "cell_type": "code",
   "execution_count": null,
   "metadata": {},
   "outputs": [],
   "source": []
  }
 ],
 "metadata": {
  "interpreter": {
   "hash": "fcfd1c8befb157eb943c4d03eaf1fd0d1aa1fa04dbcae654209a800d7e9925df"
  },
  "kernelspec": {
   "display_name": "Python 3.7.13 ('DevEnv')",
   "language": "python",
   "name": "python3"
  },
  "language_info": {
   "codemirror_mode": {
    "name": "ipython",
    "version": 3
   },
   "file_extension": ".py",
   "mimetype": "text/x-python",
   "name": "python",
   "nbconvert_exporter": "python",
   "pygments_lexer": "ipython3",
   "version": "3.7.13"
  },
  "orig_nbformat": 4
 },
 "nbformat": 4,
 "nbformat_minor": 2
}
